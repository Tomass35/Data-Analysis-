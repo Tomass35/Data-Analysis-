{
 "cells": [
  {
   "cell_type": "markdown",
   "id": "9125ae92",
   "metadata": {},
   "source": [
    "# 01. Vypis"
   ]
  },
  {
   "cell_type": "code",
   "execution_count": 1,
   "id": "84770c10",
   "metadata": {},
   "outputs": [
    {
     "name": "stdout",
     "output_type": "stream",
     "text": [
      "Hello World!\n"
     ]
    }
   ],
   "source": [
    "print(\"Hello World!\")"
   ]
  },
  {
   "cell_type": "markdown",
   "id": "7d97743f",
   "metadata": {},
   "source": [
    "# 02.Premenne a datove typy"
   ]
  },
  {
   "cell_type": "code",
   "execution_count": 10,
   "id": "6cf8eece",
   "metadata": {},
   "outputs": [
    {
     "name": "stdout",
     "output_type": "stream",
     "text": [
      "Ahoj Adam\n",
      "Do vianoc je este 24 dni\n"
     ]
    }
   ],
   "source": [
    "menoKlient = \"Adam\";\n",
    "print(\"Ahoj \" + menoKlient)\n",
    "\n",
    "pocetDniVianoce = 24\n",
    "print(\"Do vianoc je este\", pocetDniVianoce, \"dni\")"
   ]
  },
  {
   "cell_type": "code",
   "execution_count": null,
   "id": "3f1d105f",
   "metadata": {},
   "outputs": [],
   "source": []
  }
 ],
 "metadata": {
  "kernelspec": {
   "display_name": "Python 3 (ipykernel)",
   "language": "python",
   "name": "python3"
  },
  "language_info": {
   "codemirror_mode": {
    "name": "ipython",
    "version": 3
   },
   "file_extension": ".py",
   "mimetype": "text/x-python",
   "name": "python",
   "nbconvert_exporter": "python",
   "pygments_lexer": "ipython3",
   "version": "3.9.12"
  }
 },
 "nbformat": 4,
 "nbformat_minor": 5
}
